{
 "cells": [
  {
   "cell_type": "code",
   "execution_count": 35,
   "id": "be246f25",
   "metadata": {},
   "outputs": [],
   "source": [
    "#starting imports\n",
    "import random\n",
    "\n",
    "#initialize variables\n",
    "cell = 'c'\n",
    "wall = 'w'\n",
    "unvisited = 'u'\n",
    "height = 15\n",
    "width = 15\n",
    "maze = init_maze(width, height)\n",
    "\n",
    "#step 2 variables\n",
    "starting_height = int(random.random()*height)\n",
    "starting_width = int(random.random()*width)"
   ]
  },
  {
   "cell_type": "code",
   "execution_count": null,
   "id": "dc7b82ae",
   "metadata": {},
   "outputs": [],
   "source": [
    "#making sure it doesn't start on a block that is on the edge of the maze.\n",
    "if starting_height == 0:\n",
    "    starting_height += 1\n",
    "if starting_height == height-1:\n",
    "    starting_height -= 1\n",
    "if starting_width == 0:\n",
    "    starting_width += 1\n",
    "if starting_width == width-1:\n",
    "    starting_width -= 1"
   ]
  },
  {
   "cell_type": "code",
   "execution_count": 36,
   "id": "2ae5a234",
   "metadata": {},
   "outputs": [],
   "source": [
    "#function to create an empty maze.\n",
    "def init_maze(width, height):\n",
    "    maze = []\n",
    "    for i in range(0, height):\n",
    "        line = []\n",
    "        for j in range(0, width):\n",
    "            line.append('u')\n",
    "        maze.append(line)\n",
    "        \n",
    "    return maze"
   ]
  },
  {
   "cell_type": "code",
   "execution_count": 37,
   "id": "1dd71946",
   "metadata": {},
   "outputs": [],
   "source": [
    "#function to print the maze in a user friendly format.\n",
    "from colorama import init, Fore\n",
    "#colorama needs to be initialized in order to be used\n",
    "init()\n",
    "\n",
    "def print_maze(maze):\n",
    "    for i in range(0, len(maze)):\n",
    "        for j in range(0, len(maze[0])):\n",
    "            if maze[i][j] == 'u':\n",
    "                print(Fore.WHITE, f'{maze[i][j]}', end=\"\")\n",
    "            elif maze[i][j] == 'c':\n",
    "                print(Fore,GREEN, f'{maze[i][j]}', end=\"\")\n",
    "            else:\n",
    "                print(Fore,RED, f'{maze[i][j]}', end=\"\")\n",
    "    print('\\n')"
   ]
  }
 ],
 "metadata": {
  "kernelspec": {
   "display_name": "Python 3 (ipykernel)",
   "language": "python",
   "name": "python3"
  },
  "language_info": {
   "codemirror_mode": {
    "name": "ipython",
    "version": 3
   },
   "file_extension": ".py",
   "mimetype": "text/x-python",
   "name": "python",
   "nbconvert_exporter": "python",
   "pygments_lexer": "ipython3",
   "version": "3.11.5"
  }
 },
 "nbformat": 4,
 "nbformat_minor": 5
}
